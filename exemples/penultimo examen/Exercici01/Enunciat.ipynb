{
 "cells": [
  {
   "cell_type": "markdown",
   "metadata": {},
   "source": [
    "<div style=\"display: flex; width: 100%;\">\n",
    "    <div style=\"flex: 1; padding: 0px;\">\n",
    "        <p>© Albert Palacios Jiménez, 2023</p>\n",
    "    </div>\n",
    "    <div style=\"flex: 1; padding: 0px; text-align: right;\">\n",
    "        <img src=\"../../assets/ieti.png\" height=\"32\" alt=\"Logo de IETI\" style=\"max-height: 32px;\">\n",
    "    </div>\n",
    "</div>\n",
    "<hr/>"
   ]
  },
  {
   "cell_type": "markdown",
   "metadata": {},
   "source": [
    "### Exercici 1\n",
    "\n",
    "**Puntuació i validació**: Aquest exercici val 2 punts només si passa tots els tests, si només passa algun dels tests la nota serà 0.\n",
    "\n",
    "Crea un programa en Java que realitzi les següents tasques:\n",
    "\n",
    "* La funció 'comptarParaules' que retorna el nombre total de paraules en una cadena de text rebuda com a paràmetre. Considera una paraula com qualsevol seqüència de caràcters separada per espais.\n",
    "\n",
    "* La funció 'comptaRepeticions' que rep com a paràmetres una cadena de text i una paraula i retorna el nombre de vegades que apareix la paraula objectiu a la cadena.\n",
    "\n",
    "* La funció 'invertirCadena' que rep una cadena de text i retona una cadena de text amb els caràcters en ordre invers.\n",
    "\n",
    "* La funció 'paraulaMesLlarga' que retorna la paraula més llarga en una cadena de text rebuda com a paràmetre.\n",
    "\n",
    "**Nota:** Decideix la visibilitat de les funcions, per tal de passar els testos.\n",
    "\n",
    "Pistes:\n",
    "\n",
    "* Utilitza el mètode split de la classe String per dividir la cadena en paraules basant-te en els espais.\n",
    "\n",
    "* Per invertir la cadena, considera convertir-la primer a un array de caràcters o utilitzar un StringBuilder i el seu mètode reverse.\n",
    "\n",
    "* Per trobar la paraula més llarga, itera a través de les paraules resultants de split i compara les seves longituds.\n",
    "\n",
    "Exemple de sortida:\n",
    "\n",
    "```text\n",
    "Text original: Lorem ipsum dolor sit amet, consectetur adipiscing elit, sed do eiusmod tempor incididunt ut labore et dolore magna aliqua. Ut enim ad minim veniam, quis nostrud exercitation ullamco laboris nisi ut aliquip ex ea commodo consequat. Duis aute irure dolor in reprehenderit in voluptate velit esse cillum dolore eu fugiat nulla pariatur. Excepteur sint occaecat cupidatat non proident, sunt in culpa qui officia deserunt mollit anim id est laborum.\n",
    "Nombre total de paraules: 69\n",
    "Repeticions de 'dolor': 2\n",
    "Cadena invertida: .murobal tse di mina tillom tnuresed aiciffo iuq apluc ni tnus ,tnediorp non tatadipuc taceacco tnis ruetpecxE .rutairap allun taiguf ue erolod mullic esse tilev etatpulov ni tiredneherper ni rolod eruri etua siuD .tauqesnoc odommoc ae xe piuqila tu isin sirobal ocmallu noitaticrexe durtson siuq ,mainev minim da mine tU .auqila angam erolod te erobal tu tnudidicni ropmet domsuie od des ,tile gnicsipida rutetcesnoc ,tema tis rolod muspi meroL\n",
    "Paraula més llarga: reprehenderit\n",
    "```\n",
    "\n",
    "Assegura't que passa els testos:\n",
    "\n",
    "```bash\n",
    "./runTest.sh com.project.TestMain#comptarParaules\n",
    "./runTest.sh com.project.TestMain#comptarRepeticions\n",
    "./runTest.sh com.project.TestMain#invertirCadena\n",
    "./runTest.sh com.project.TestMain#paraulaMesLlarga\n",
    "```"
   ]
  }
 ],
 "metadata": {
  "language_info": {
   "name": "python"
  }
 },
 "nbformat": 4,
 "nbformat_minor": 2
}
